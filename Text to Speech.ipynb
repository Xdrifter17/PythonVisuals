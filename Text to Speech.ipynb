{
 "cells": [
  {
   "cell_type": "code",
   "execution_count": 5,
   "id": "bcc9a9b6",
   "metadata": {},
   "outputs": [
    {
     "name": "stdout",
     "output_type": "stream",
     "text": [
      "Collecting gTTSNote: you may need to restart the kernel to use updated packages.\n",
      "\n",
      "  Downloading gTTS-2.3.2-py3-none-any.whl (28 kB)\n",
      "Requirement already satisfied: requests<3,>=2.27 in c:\\users\\samad\\anaconda3\\lib\\site-packages (from gTTS) (2.31.0)\n",
      "Requirement already satisfied: click<8.2,>=7.1 in c:\\users\\samad\\anaconda3\\lib\\site-packages (from gTTS) (8.0.4)\n",
      "Requirement already satisfied: colorama in c:\\users\\samad\\anaconda3\\lib\\site-packages (from click<8.2,>=7.1->gTTS) (0.4.6)\n",
      "Requirement already satisfied: charset-normalizer<4,>=2 in c:\\users\\samad\\anaconda3\\lib\\site-packages (from requests<3,>=2.27->gTTS) (2.0.4)\n",
      "Requirement already satisfied: idna<4,>=2.5 in c:\\users\\samad\\anaconda3\\lib\\site-packages (from requests<3,>=2.27->gTTS) (3.4)\n",
      "Requirement already satisfied: urllib3<3,>=1.21.1 in c:\\users\\samad\\anaconda3\\lib\\site-packages (from requests<3,>=2.27->gTTS) (1.26.16)\n",
      "Requirement already satisfied: certifi>=2017.4.17 in c:\\users\\samad\\anaconda3\\lib\\site-packages (from requests<3,>=2.27->gTTS) (2023.7.22)\n",
      "Installing collected packages: gTTS\n",
      "Successfully installed gTTS-2.3.2\n"
     ]
    }
   ],
   "source": [
    "pip install gTTS"
   ]
  },
  {
   "cell_type": "code",
   "execution_count": 1,
   "id": "0947fbb7",
   "metadata": {},
   "outputs": [
    {
     "name": "stdout",
     "output_type": "stream",
     "text": [
      "Collecting playsound\n",
      "  Downloading playsound-1.3.0.tar.gz (7.7 kB)\n",
      "  Preparing metadata (setup.py): started\n",
      "  Preparing metadata (setup.py): finished with status 'done'\n",
      "Building wheels for collected packages: playsound\n",
      "  Building wheel for playsound (setup.py): started\n",
      "  Building wheel for playsound (setup.py): finished with status 'done'\n",
      "  Created wheel for playsound: filename=playsound-1.3.0-py3-none-any.whl size=7046 sha256=881a08aa1948aefc00d389fd6750a75a8a65195f2826ac2ddc0312dace2036fa\n",
      "  Stored in directory: c:\\users\\samad\\appdata\\local\\pip\\cache\\wheels\\50\\98\\42\\62753a9e1fb97579a0ce2f84f7db4c21c09d03bb2091e6cef4\n",
      "Successfully built playsound\n",
      "Installing collected packages: playsound\n",
      "Successfully installed playsound-1.3.0\n",
      "Note: you may need to restart the kernel to use updated packages.\n"
     ]
    }
   ],
   "source": [
    "pip install playsound"
   ]
  },
  {
   "cell_type": "code",
   "execution_count": 2,
   "id": "2c29a435",
   "metadata": {},
   "outputs": [],
   "source": [
    "from tkinter import * #for building GUI applications."
   ]
  },
  {
   "cell_type": "code",
   "execution_count": 3,
   "id": "b9978a78",
   "metadata": {},
   "outputs": [],
   "source": [
    "from gtts import gTTS #library that converts the text into audio."
   ]
  },
  {
   "cell_type": "code",
   "execution_count": 5,
   "id": "78b49d24",
   "metadata": {},
   "outputs": [],
   "source": [
    "from playsound import playsound #use to play audio files."
   ]
  },
  {
   "cell_type": "code",
   "execution_count": 14,
   "id": "fbe4b5fd",
   "metadata": {},
   "outputs": [
    {
     "data": {
      "text/plain": [
       "''"
      ]
     },
     "execution_count": 14,
     "metadata": {},
     "output_type": "execute_result"
    }
   ],
   "source": [
    "root = Tk() #initialized tkinter which will be used for GUI\n",
    "root.geometry('350x300') #used to set the width and height of the window\n",
    "root.resizable(0,0)  #used to access window attributes\n",
    "root.config(bg = 'ghost white') #will set the color of the background\n",
    "root.title('SlimShady') #set the title of the window"
   ]
  },
  {
   "cell_type": "code",
   "execution_count": 15,
   "id": "deb13db7",
   "metadata": {},
   "outputs": [],
   "source": [
    "#Heading\n",
    "Label(root, text = 'TEXT_TO_SPEECH' , font='arial 20 bold' , bg ='white smoke').pack()\n",
    "Label(root, text ='Eminem' , font ='arial 15 bold', bg = 'white smoke').pack(side = BOTTOM)\n",
    "\n",
    "#Label\n",
    "Label(root, text ='Enter Text', font ='arial 15 bold', bg ='white smoke').place(x=20,y=60)\n",
    "\n",
    "#Text_variable\n",
    "Msg = StringVar()\n",
    "\n",
    "#Entry\n",
    "entry_field = Entry(root,textvariable =Msg, width ='50')\n",
    "entry_field.place(x=20 , y=100)\n"
   ]
  },
  {
   "cell_type": "code",
   "execution_count": null,
   "id": "4bda2b4b",
   "metadata": {},
   "outputs": [],
   "source": [
    "Function to Convert Text to Speech"
   ]
  },
  {
   "cell_type": "code",
   "execution_count": 16,
   "id": "3f039da4",
   "metadata": {},
   "outputs": [],
   "source": [
    "def Text_to_speech():\n",
    "    Message = entry_field.get()\n",
    "    speech = gTTS(text = Message)\n",
    "    speech.save('Eminem.mp3')\n",
    "    playsound('Eminem.mp3')"
   ]
  },
  {
   "cell_type": "code",
   "execution_count": 17,
   "id": "9e223802",
   "metadata": {},
   "outputs": [],
   "source": [
    "def Exit():\n",
    "    root.destroy() #to Exit"
   ]
  },
  {
   "cell_type": "code",
   "execution_count": 18,
   "id": "fcf0e591",
   "metadata": {},
   "outputs": [],
   "source": [
    "def Reset():\n",
    "    Msg.set(\"\") #to Reset"
   ]
  },
  {
   "cell_type": "code",
   "execution_count": 19,
   "id": "807bcff2",
   "metadata": {},
   "outputs": [],
   "source": [
    "#Button parameters:\n",
    "Button(root, text = \"PLAY\" , font = 'arial 15 bold', command = Text_to_speech, width =4).place(x=25, y=140)\n",
    "Button(root,text = 'EXIT',font = 'arial 15 bold' , command = Exit, bg = 'OrangeRed1').place(x=100,y=140)\n",
    "Button(root, text = 'RESET', font='arial 15 bold', command = Reset).place(x=175 , y =140)"
   ]
  },
  {
   "cell_type": "code",
   "execution_count": null,
   "id": "d8b3699b",
   "metadata": {},
   "outputs": [],
   "source": [
    "#infinite loop to run program\n",
    "root.mainloop() "
   ]
  }
 ],
 "metadata": {
  "kernelspec": {
   "display_name": "Python 3 (ipykernel)",
   "language": "python",
   "name": "python3"
  },
  "language_info": {
   "codemirror_mode": {
    "name": "ipython",
    "version": 3
   },
   "file_extension": ".py",
   "mimetype": "text/x-python",
   "name": "python",
   "nbconvert_exporter": "python",
   "pygments_lexer": "ipython3",
   "version": "3.11.4"
  }
 },
 "nbformat": 4,
 "nbformat_minor": 5
}
